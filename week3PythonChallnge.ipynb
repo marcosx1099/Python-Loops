{
 "cells": [
  {
   "cell_type": "code",
   "execution_count": 2,
   "id": "7653d425",
   "metadata": {},
   "outputs": [],
   "source": [
    "data = [\"Mark Antony\",\"John Chan\",\"Bret Lee\",\"Jim Nick\",\"Janice Ken\",\"Florida Thomson\",\"Lily Jason\",\"Matt Antony\",\"Mark Thomas\",\n",
    "      \"Kenny Peterson\",\"Joe Cook\",\"Alexander Thomas\",\"Katy Perry\",\"Alexanderia Peterson\",\"Mark Antony\"]\n"
   ]
  },
  {
   "cell_type": "code",
   "execution_count": 3,
   "id": "bd6c2ec4",
   "metadata": {},
   "outputs": [
    {
     "name": "stdout",
     "output_type": "stream",
     "text": [
      "Enter the new nameMarcos\n",
      "Enter the new nameBilly\n",
      "Enter the new nameBob\n",
      "Enter the new nameJoe\n",
      "Enter the new nameShmo\n",
      "['Mark Antony', 'John Chan', 'Bret Lee', 'Jim Nick', 'Janice Ken', 'Florida Thomson', 'Lily Jason', 'Matt Antony', 'Mark Thomas', 'Kenny Peterson', 'Joe Cook', 'Alexander Thomas', 'Katy Perry', 'Alexanderia Peterson', 'Mark Antony', 'Marcos', 'Billy', 'Bob', 'Joe', 'Shmo']\n"
     ]
    }
   ],
   "source": [
    "#task1- add five names, one by one, to the existing list of 15 students.\n",
    "\n",
    "only5 = 1\n",
    "while only5 < 6:\n",
    "    newName = input('Enter the new name')\n",
    "    data.append(newName)\n",
    "    only5 += 1\n",
    "print(data)"
   ]
  },
  {
   "cell_type": "code",
   "execution_count": 31,
   "id": "7a72727c",
   "metadata": {},
   "outputs": [
    {
     "name": "stdout",
     "output_type": "stream",
     "text": [
      "['Shmo', 'Joe', 'Bob', 'Billy', 'Marcos', 'Mark Antony', 'Alexanderia Peterson', 'Katy Perry', 'Alexander Thomas', 'Joe Cook', 'Kenny Peterson', 'Mark Thomas', 'Matt Antony', 'Lily Jason', 'Florida Thomson', 'Janice Ken', 'Jim Nick', 'Bret Lee', 'John Chan', 'Mark Antony']\n"
     ]
    }
   ],
   "source": [
    "#task2 - check the names of the five students who signed up later. Print the names of all the students in the list in reverse order.\n",
    "\n",
    "#print(data[::-1])\n",
    "\n",
    "data.reverse()\n",
    "print(data)"
   ]
  },
  {
   "cell_type": "code",
   "execution_count": 30,
   "id": "92dd7194",
   "metadata": {},
   "outputs": [
    {
     "name": "stdout",
     "output_type": "stream",
     "text": [
      "Shmo\n",
      "Joe\n",
      "Bob\n",
      "Billy\n",
      "Marcos\n",
      "Mark Antony\n",
      "Alexanderia Peterson\n",
      "Katy Perry\n",
      "Alexander Thomas\n",
      "Joe Cook\n",
      "Kenny Peterson\n",
      "Mark Thomas\n",
      "Matt Antony\n",
      "Lily Jason\n",
      "Florida Thomson\n",
      "Janice Ken\n",
      "Jim Nick\n",
      "Bret Lee\n",
      "John Chan\n",
      "Mark Antony\n"
     ]
    }
   ],
   "source": [
    "#task3- Perform Task 2 again, without using the built-in method for reversal in Python\n",
    "for i in data[::-1]:\n",
    "    print(i)"
   ]
  },
  {
   "cell_type": "code",
   "execution_count": 36,
   "id": "2c405f58",
   "metadata": {},
   "outputs": [
    {
     "name": "stdout",
     "output_type": "stream",
     "text": [
      "The name Mark Antony is a duplicate \n",
      "\n",
      "The new list is: \n",
      "\n",
      " ['Shmo', 'Joe', 'Bob', 'Billy', 'Marcos', 'Mark Antony', 'Alexanderia Peterson', 'Katy Perry', 'Alexander Thomas', 'Joe Cook', 'Kenny Peterson', 'Mark Thomas', 'Matt Antony', 'Lily Jason', 'Florida Thomson', 'Janice Ken', 'Jim Nick', 'Bret Lee', 'John Chan']\n"
     ]
    }
   ],
   "source": [
    "#task4- check for any duplicate entries in the list of 20 student names. \n",
    "#Create a new list named final_list that does not repeat any of the names.\n",
    "final_list = []\n",
    "for i in data:\n",
    "    if i not in final_list:\n",
    "        final_list.append(i)\n",
    "    else:\n",
    "        print(\"The name\",i, \"is a duplicate \\n\")\n",
    "        #print(\"The name\",data[i], \"is a duplicate\")\n",
    "print(\"The new list is: \\n\\n\",final_list)"
   ]
  },
  {
   "cell_type": "code",
   "execution_count": 37,
   "id": "66268e5a",
   "metadata": {},
   "outputs": [
    {
     "name": "stdout",
     "output_type": "stream",
     "text": [
      "['Alexander Thomas', 'Alexanderia Peterson', 'Billy', 'Bob', 'Bret Lee', 'Florida Thomson', 'Janice Ken', 'Jim Nick', 'Joe', 'Joe Cook', 'John Chan', 'Katy Perry', 'Kenny Peterson', 'Lily Jason', 'Marcos', 'Mark Antony', 'Mark Thomas', 'Matt Antony', 'Shmo']\n"
     ]
    }
   ],
   "source": [
    "#task5- display the names of the students from final_list in alphabetical order\n",
    "\n",
    "final_list.sort()\n",
    "print(final_list)"
   ]
  },
  {
   "cell_type": "code",
   "execution_count": 44,
   "id": "94606eb0",
   "metadata": {},
   "outputs": [
    {
     "name": "stdout",
     "output_type": "stream",
     "text": [
      "Alexanderia Peterson, Katy Perry and Shmo are selected for the spelling bee\n",
      "\n",
      "['Alexanderia Peterson', 'Katy Perry', 'Shmo']\n"
     ]
    }
   ],
   "source": [
    "#task6 - The students at the second, twelfth, and last position in final_list get selected in the Spell Bee competition\n",
    "#save the names of these students in a different list and display them separately\n",
    "\n",
    "firstpick = final_list[1]\n",
    "\n",
    "secondpick = final_list[11]\n",
    "\n",
    "thirdpick = final_list[-1]\n",
    "print(f'{firstpick}, {secondpick} and {thirdpick} are selected for the spelling bee')\n",
    "\n",
    "threename = []\n",
    "threename.append(firstpick)\n",
    "threename.append(secondpick)\n",
    "threename.append(thirdpick)\n",
    "print()\n",
    "print(threename)"
   ]
  },
  {
   "cell_type": "code",
   "execution_count": 45,
   "id": "8d33d6cb",
   "metadata": {},
   "outputs": [
    {
     "name": "stdout",
     "output_type": "stream",
     "text": [
      "[560, 567, 574, 581, 588, 595, 602, 609, 616, 623, 630, 637, 644, 651, 658, 665, 672]\n",
      "There are 17 numbers in the range 555 to 678 that are divisible by 7\n"
     ]
    }
   ],
   "source": [
    "#task7- Write a program to count the number of integers between 555 and 678 that are divisible by 7.\n",
    "list7 =[]\n",
    "\n",
    "\n",
    "for i in range(555,678):\n",
    "    if i % 7 == 0:\n",
    "        list7.append(i)\n",
    "        \n",
    "print(list7)\n",
    "print(f'There are {len(list7)} numbers in the range 555 to 678 that are divisible by 7')\n",
    "    "
   ]
  },
  {
   "cell_type": "code",
   "execution_count": 7,
   "id": "56a1ced2",
   "metadata": {},
   "outputs": [
    {
     "name": "stdout",
     "output_type": "stream",
     "text": [
      "Enter a number4\n",
      "[1, 2, 3, 5, 6, 7, 9, 10, 11, 13, 14, 15, 17, 18, 19, 21, 22, 23, 25, 26, 27, 29, 30]\n"
     ]
    }
   ],
   "source": [
    "#task8- Write a Python program that prints the first 30 natural numbers but skips \n",
    "# all the numbers that are multiples of n. Accept the value of n as an input from the user \n",
    "\n",
    "num = int(input('Enter a number'))\n",
    "list30 = []\n",
    "for i in range(1,31):\n",
    "    if i % num != 0:\n",
    "        list30.append(i)\n",
    "print(list30)\n"
   ]
  },
  {
   "cell_type": "code",
   "execution_count": 4,
   "id": "06b09f6e",
   "metadata": {},
   "outputs": [
    {
     "name": "stdout",
     "output_type": "stream",
     "text": [
      "[20, 22, 20, 10, 20, 20, 20, 20, 15]\n"
     ]
    }
   ],
   "source": [
    "#task9- Find the sum of the corresponding elements of firstlist and secondlist, \n",
    "# store them in a list named thirdlist, and print the result.\n",
    "\n",
    "firstlist = [1, 21, 3, 4, 5, 6, 7, 18, 4]\n",
    "\n",
    "secondlist = [19, 1, 17, 6, 15, 14, 13, 2, 11]\n",
    "\n",
    "thirdlist = []\n",
    "\n",
    "for i in range(0,len(firstlist)):\n",
    "    thirdlist.append(firstlist[i] + secondlist[i])\n",
    "               \n",
    "print(thirdlist)"
   ]
  },
  {
   "cell_type": "code",
   "execution_count": null,
   "id": "decedab6",
   "metadata": {},
   "outputs": [],
   "source": []
  },
  {
   "cell_type": "code",
   "execution_count": null,
   "id": "5e1ac49f",
   "metadata": {},
   "outputs": [],
   "source": []
  }
 ],
 "metadata": {
  "kernelspec": {
   "display_name": "Python 3 (ipykernel)",
   "language": "python",
   "name": "python3"
  },
  "language_info": {
   "codemirror_mode": {
    "name": "ipython",
    "version": 3
   },
   "file_extension": ".py",
   "mimetype": "text/x-python",
   "name": "python",
   "nbconvert_exporter": "python",
   "pygments_lexer": "ipython3",
   "version": "3.10.9"
  }
 },
 "nbformat": 4,
 "nbformat_minor": 5
}
