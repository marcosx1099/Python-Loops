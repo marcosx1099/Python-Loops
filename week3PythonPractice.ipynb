{
 "cells": [
  {
   "cell_type": "code",
   "execution_count": 1,
   "id": "ed649e93",
   "metadata": {},
   "outputs": [
    {
     "name": "stdout",
     "output_type": "stream",
     "text": [
      "False\n"
     ]
    }
   ],
   "source": [
    "#task1- Searching in a List\n",
    "#In the list below, how would you check for the presence of the data item USA?\n",
    "\n",
    "\n",
    "mynames = [\"Joe\",\"Zoe\",\"world\",\"Brad\",\"Angelina\",\"world\",\"Zuki\",\"Tom\",\"Paris\",\"world\",\"magic\"]\n",
    "print('USA' in mynames) #USA is not in the list"
   ]
  },
  {
   "cell_type": "code",
   "execution_count": null,
   "id": "682b63a3",
   "metadata": {},
   "outputs": [],
   "source": [
    "# task2- Frequency Counts of Elements in a List\n",
    "#How would you identify the number of times the data item 'world' is present in the following data?\n",
    "\n",
    "print(mynames.count('world'))"
   ]
  },
  {
   "cell_type": "code",
   "execution_count": 3,
   "id": "b4d71092",
   "metadata": {},
   "outputs": [
    {
     "name": "stdout",
     "output_type": "stream",
     "text": [
      "[1, 2, 3, 4, 5, 6, 7, 8, 9, 10, 11, 12, 13, 14, 15, 16, 17, 18, 19, 20, 21, 22, 23, 24, 25, 26, 27, 28, 29]\n",
      "there are 14 even numbers\n",
      "there are 15 odd numbers\n"
     ]
    }
   ],
   "source": [
    "#task3-  Looping Over a List\n",
    "#Write a program to count the total number of even and odd numbers in the list\n",
    "\n",
    "\n",
    "numlist = list(range(1,30))\n",
    "print(numlist)\n",
    "\n",
    "even = 0;\n",
    "odd = 0;\n",
    "\n",
    "for i in numlist:\n",
    "    if i % 2 == 0:\n",
    "        even += 1\n",
    "    else:\n",
    "        odd += 1\n",
    "print(f'there are {even} even numbers')\n",
    "print(f'there are {odd} odd numbers')"
   ]
  },
  {
   "cell_type": "code",
   "execution_count": 23,
   "id": "c9bd45b3",
   "metadata": {},
   "outputs": [
    {
     "name": "stdout",
     "output_type": "stream",
     "text": [
      "[2, 4, 6, 8, 10]\n"
     ]
    }
   ],
   "source": [
    "#task4- Appending Elements to a List\n",
    "# Select the first five even numbers from numlist2, store them in a new list, and display the contents of the new list.\n",
    "numlist2 = list(range(1,30))\n",
    "el =[]\n",
    "for i in numlist2:\n",
    "    if len(el) < 5:\n",
    "        if i % 2 == 0:\n",
    "            el.append(i)\n",
    "print(el)"
   ]
  },
  {
   "cell_type": "code",
   "execution_count": 26,
   "id": "62c25a88",
   "metadata": {},
   "outputs": [
    {
     "name": "stdout",
     "output_type": "stream",
     "text": [
      "[27, 29]\n"
     ]
    }
   ],
   "source": [
    "#task5- Arithmetic Operations on List Elements\n",
    "# Print the last two odd numbers from numlist3.\n",
    "\n",
    "numlist3 = list(range(1,30))\n",
    "print(numlist3[-3::2])"
   ]
  },
  {
   "cell_type": "code",
   "execution_count": 30,
   "id": "9d3caa33",
   "metadata": {},
   "outputs": [
    {
     "name": "stdout",
     "output_type": "stream",
     "text": [
      "Enter a letter a\n",
      "Enter a letter b\n",
      "Enter a letter c\n",
      "Enter a letter d\n",
      "Enter a letter e\n",
      "Enter a number 12\n",
      "Enter a number 3\n",
      "Enter a number 4\n",
      "List x consists of ['a', 'b', 'c', 'd', 'e']\n",
      "List y consists of [12, 3, 4]\n",
      "['a12', 'b3', 'c4']\n"
     ]
    }
   ],
   "source": [
    "#task6- Appending Two Lists\n",
    "# Create two empty lists, x and y. Accept five strings from the user and store them in list x. Accept three numbers\n",
    "# from the user and store them in list y. Append the contents of list y to the contents of list x and print the output.\n",
    "x = []\n",
    "y = []\n",
    "for i in range(0,5):\n",
    "    xString = input('Enter a letter ')\n",
    "    x.append(xString)\n",
    "for i in range(1,4):\n",
    "    yNum = int(input('Enter a number '))\n",
    "    y.append(yNum)\n",
    "print(\"List x consists of\", x)\n",
    "print(\"List y consists of\", y)\n",
    "\n",
    "z = []\n",
    "for i in range(0,len(y)):\n",
    "    z.append(x[i] + str(y[i]))\n",
    "print(z)"
   ]
  },
  {
   "cell_type": "code",
   "execution_count": 31,
   "id": "f8fa0868",
   "metadata": {},
   "outputs": [
    {
     "name": "stdout",
     "output_type": "stream",
     "text": [
      "this is the list with a range of 1-10: [1, 2, 3, 4, 5, 6, 7, 8, 9, 10]\n",
      "this is the list with a range of 1-10 squared: [1, 4, 9, 16, 25, 36, 49, 64, 81, 100]\n",
      "this is the list with a range of 1-10: [30, 31, 32, 33, 34, 35, 36, 37, 38, 39, 40]\n",
      "this is the list with a range of 1-10 squared: [900, 961, 1024, 1089, 1156, 1225, 1296, 1369, 1444, 1521, 1600]\n"
     ]
    }
   ],
   "source": [
    "#task7- Populating Elements in a List\n",
    "# Create two lists and print them one after the other.\n",
    "\n",
    "listA = list(range(1,11))\n",
    "print(f'this is the list with a range of 1-10: {listA}')\n",
    "listA1 = []\n",
    "for i in listA:\n",
    "    listA1.append(i**2)\n",
    "print(f'this is the list with a range of 1-10 squared: {listA1}')\n",
    "\n",
    "listB = list(range(30,41))\n",
    "print(f'this is the list with a range of 1-10: {listB}')\n",
    "listB1 = []\n",
    "for i in listB:\n",
    "    listB1.append(i**2)\n",
    "print(f'this is the list with a range of 1-10 squared: {listB1}')\n"
   ]
  },
  {
   "cell_type": "code",
   "execution_count": 32,
   "id": "78a5e76e",
   "metadata": {},
   "outputs": [
    {
     "name": "stdout",
     "output_type": "stream",
     "text": [
      "Enter a positive number90\n",
      "90 x 1 = 90\n",
      "90 x 2 = 180\n",
      "90 x 3 = 270\n",
      "90 x 4 = 360\n",
      "90 x 5 = 450\n",
      "90 x 6 = 540\n",
      "90 x 7 = 630\n",
      "90 x 8 = 720\n",
      "90 x 9 = 810\n",
      "90 x 10 = 900\n"
     ]
    }
   ],
   "source": [
    "#task8- Iterations in Python Using the \"for\" Loop\n",
    "# Accept a positive integer from the user. Print the multiplication table of the integer\n",
    "# by using the \"for\" loop and the range() function\n",
    "\n",
    "\n",
    "x = int(input('Enter a positive number'))\n",
    "\n",
    "for q in range(1,11):\n",
    "     print(f'{x} x {q} = {x * q}')\n",
    "    "
   ]
  },
  {
   "cell_type": "code",
   "execution_count": null,
   "id": "39ea15c6",
   "metadata": {},
   "outputs": [],
   "source": []
  }
 ],
 "metadata": {
  "kernelspec": {
   "display_name": "Python 3 (ipykernel)",
   "language": "python",
   "name": "python3"
  },
  "language_info": {
   "codemirror_mode": {
    "name": "ipython",
    "version": 3
   },
   "file_extension": ".py",
   "mimetype": "text/x-python",
   "name": "python",
   "nbconvert_exporter": "python",
   "pygments_lexer": "ipython3",
   "version": "3.10.9"
  }
 },
 "nbformat": 4,
 "nbformat_minor": 5
}
